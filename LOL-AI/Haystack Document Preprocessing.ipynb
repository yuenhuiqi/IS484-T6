{
 "cells": [
  {
   "cell_type": "markdown",
   "id": "7e12bef2",
   "metadata": {},
   "source": [
    "# Haystack Document Preprocessing"
   ]
  },
  {
   "cell_type": "markdown",
   "id": "08a1b27d",
   "metadata": {},
   "source": [
    "## 1. Haystack Installation & Imports"
   ]
  },
  {
   "cell_type": "code",
   "execution_count": null,
   "id": "c2bb944b",
   "metadata": {},
   "outputs": [],
   "source": [
    "# Install the latest main of Haystack\n",
    "# !pip install --upgrade pip\n",
    "# !pip install git+https://github.com/deepset-ai/haystack.git#egg=farm-haystack[colab,ocr]\n",
    "\n",
    "# For Colab/linux based machines\n",
    "# !wget --no-check-certificate https://dl.xpdfreader.com/xpdf-tools-linux-4.04.tar.gz\n",
    "# !tar -xvf xpdf-tools-linux-4.04.tar.gz && sudo cp xpdf-tools-linux-4.04/bin64/pdftotext /usr/local/bin\n",
    "\n",
    "# For Macos machines\n",
    "# !wget --no-check-certificate https://dl.xpdfreader.com/xpdf-tools-mac-4.04.tar.gz\n",
    "# !tar -xvf xpdf-tools-mac-4.04.tar.gz && sudo cp xpdf-tools-mac-4.04/bin64/pdftotext /usr/local/bin"
   ]
  },
  {
   "cell_type": "code",
   "execution_count": null,
   "id": "fb657999",
   "metadata": {},
   "outputs": [],
   "source": [
    "import logging\n",
    "\n",
    "logging.basicConfig(format=\"%(levelname)s - %(name)s -  %(message)s\", level=logging.WARNING)\n",
    "logging.getLogger(\"haystack\").setLevel(logging.INFO)"
   ]
  },
  {
   "cell_type": "code",
   "execution_count": null,
   "id": "92bf12f1",
   "metadata": {},
   "outputs": [],
   "source": [
    "from haystack.nodes import TextConverter, PDFToTextConverter, DocxToTextConverter, PreProcessor\n",
    "from haystack.utils import convert_files_to_docs, fetch_archive_from_http"
   ]
  },
  {
   "cell_type": "markdown",
   "id": "734c454c",
   "metadata": {},
   "source": [
    "## 2. Implementation"
   ]
  },
  {
   "cell_type": "markdown",
   "id": "5ebbd40d",
   "metadata": {},
   "source": [
    "### 2.1 Haystack Converters\n",
    "Used to turn files from computer into documents that can be processed by Haystack's pipeline. "
   ]
  },
  {
   "cell_type": "code",
   "execution_count": null,
   "id": "63d43ebd",
   "metadata": {},
   "outputs": [],
   "source": [
    "# Converter for PDF \n",
    "# converter = PDFToTextConverter(remove_numeric_tables=True, valid_languages=[\"en\"])\n",
    "# doc_pdf = converter.convert(file_path=\"data/tutorial8/bert.pdf\", meta=None)[0]\n",
    "\n",
    "# Converter for Docx \n",
    "# converter = DocxToTextConverter(remove_numeric_tables=False, valid_languages=[\"en\"])\n",
    "# doc_docx = converter.convert(file_path=\"data/tutorial8/heavy_metal.docx\", meta=None)[0]\n",
    "\n",
    "\n",
    "# Overall Converter (automatically apply right converter to each file in the directory)\n",
    "all_docs = convert_files_to_docs(dir_path=\"data\")"
   ]
  },
  {
   "cell_type": "markdown",
   "id": "76645399",
   "metadata": {},
   "source": [
    "### 2.2 Haystack PreProcessor\n",
    "Clean & split text for easier information retrieval."
   ]
  },
  {
   "cell_type": "code",
   "execution_count": 2,
   "id": "e6e5fb70",
   "metadata": {},
   "outputs": [
    {
     "ename": "NameError",
     "evalue": "name 'PreProcessor' is not defined",
     "output_type": "error",
     "traceback": [
      "\u001b[0;31m---------------------------------------------------------------------------\u001b[0m",
      "\u001b[0;31mNameError\u001b[0m                                 Traceback (most recent call last)",
      "\u001b[0;32m/var/folders/31/58wwhf4j5sd5_02_6gcrsqsc0000gn/T/ipykernel_83458/2348278977.py\u001b[0m in \u001b[0;36m<module>\u001b[0;34m\u001b[0m\n\u001b[0;32m----> 1\u001b[0;31m preprocessor = PreProcessor(\n\u001b[0m\u001b[1;32m      2\u001b[0m     \u001b[0mclean_empty_lines\u001b[0m\u001b[0;34m=\u001b[0m\u001b[0;32mTrue\u001b[0m\u001b[0;34m,\u001b[0m\u001b[0;34m\u001b[0m\u001b[0;34m\u001b[0m\u001b[0m\n\u001b[1;32m      3\u001b[0m     \u001b[0mclean_whitespace\u001b[0m\u001b[0;34m=\u001b[0m\u001b[0;32mTrue\u001b[0m\u001b[0;34m,\u001b[0m\u001b[0;34m\u001b[0m\u001b[0;34m\u001b[0m\u001b[0m\n\u001b[1;32m      4\u001b[0m     \u001b[0mclean_header_footer\u001b[0m\u001b[0;34m=\u001b[0m\u001b[0;32mFalse\u001b[0m\u001b[0;34m,\u001b[0m\u001b[0;34m\u001b[0m\u001b[0;34m\u001b[0m\u001b[0m\n\u001b[1;32m      5\u001b[0m     \u001b[0msplit_by\u001b[0m\u001b[0;34m=\u001b[0m\u001b[0;34m\"word\"\u001b[0m\u001b[0;34m,\u001b[0m\u001b[0;34m\u001b[0m\u001b[0;34m\u001b[0m\u001b[0m\n",
      "\u001b[0;31mNameError\u001b[0m: name 'PreProcessor' is not defined"
     ]
    }
   ],
   "source": [
    "preprocessor = PreProcessor(\n",
    "    clean_empty_lines=True,\n",
    "    clean_whitespace=True,\n",
    "    clean_header_footer=False,\n",
    "    split_by=\"word\",\n",
    "    split_length=100,\n",
    "    split_respect_sentence_boundary=True,\n",
    ")\n",
    "\n",
    "docs = preprocessor.process(all_docs)"
   ]
  },
  {
   "cell_type": "code",
   "execution_count": null,
   "id": "26a35c40",
   "metadata": {},
   "outputs": [],
   "source": []
  },
  {
   "cell_type": "code",
   "execution_count": null,
   "id": "3b935ad8",
   "metadata": {},
   "outputs": [],
   "source": []
  }
 ],
 "metadata": {
  "kernelspec": {
   "display_name": "Python 3 (ipykernel)",
   "language": "python",
   "name": "python3"
  },
  "language_info": {
   "codemirror_mode": {
    "name": "ipython",
    "version": 3
   },
   "file_extension": ".py",
   "mimetype": "text/x-python",
   "name": "python",
   "nbconvert_exporter": "python",
   "pygments_lexer": "ipython3",
   "version": "3.8.11"
  }
 },
 "nbformat": 4,
 "nbformat_minor": 5
}
